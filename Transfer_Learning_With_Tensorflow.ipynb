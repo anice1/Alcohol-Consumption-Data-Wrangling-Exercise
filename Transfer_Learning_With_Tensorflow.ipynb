{
  "nbformat": 4,
  "nbformat_minor": 0,
  "metadata": {
    "colab": {
      "name": "Transfer-Learning-With-Tensorflow.ipynb",
      "provenance": [],
      "mount_file_id": "1nk5K3Jjg-YT1WTfyo5OYbRIwRoTF_yTx",
      "authorship_tag": "ABX9TyOqnmQVVqUuraVvER1bJqW7"
    },
    "kernelspec": {
      "name": "python3",
      "display_name": "Python 3"
    },
    "language_info": {
      "name": "python"
    }
  },
  "cells": [
    {
      "cell_type": "code",
      "metadata": {
        "id": "jEe404hM24Jg"
      },
      "source": [
        "import tensorflow as tf\n",
        "import random\n",
        "import os\n",
        "import numpy as np"
      ],
      "execution_count": 1,
      "outputs": []
    },
    {
      "cell_type": "code",
      "metadata": {
        "colab": {
          "base_uri": "https://localhost:8080/"
        },
        "id": "ZEFuPp4Z3NIR",
        "outputId": "ec68579a-f92e-420a-f6a7-d647662cc717"
      },
      "source": [
        "# Download already made libraries for visualization and processing\n",
        "!wget https://raw.githubusercontent.com/anochima/helpers/master/DataViz.py\n",
        "!wget https://raw.githubusercontent.com/anochima/helpers/master/ImageProcessor.py"
      ],
      "execution_count": 2,
      "outputs": [
        {
          "output_type": "stream",
          "name": "stdout",
          "text": [
            "--2021-12-05 18:32:15--  https://raw.githubusercontent.com/anochima/helpers/master/DataViz.py\n",
            "Resolving raw.githubusercontent.com (raw.githubusercontent.com)... 185.199.110.133, 185.199.108.133, 185.199.111.133, ...\n",
            "Connecting to raw.githubusercontent.com (raw.githubusercontent.com)|185.199.110.133|:443... connected.\n",
            "HTTP request sent, awaiting response... 200 OK\n",
            "Length: 4971 (4.9K) [text/plain]\n",
            "Saving to: ‘DataViz.py’\n",
            "\n",
            "\rDataViz.py            0%[                    ]       0  --.-KB/s               \rDataViz.py          100%[===================>]   4.85K  --.-KB/s    in 0s      \n",
            "\n",
            "2021-12-05 18:32:15 (49.0 MB/s) - ‘DataViz.py’ saved [4971/4971]\n",
            "\n",
            "--2021-12-05 18:32:15--  https://raw.githubusercontent.com/anochima/helpers/master/ImageProcessor.py\n",
            "Resolving raw.githubusercontent.com (raw.githubusercontent.com)... 185.199.108.133, 185.199.109.133, 185.199.110.133, ...\n",
            "Connecting to raw.githubusercontent.com (raw.githubusercontent.com)|185.199.108.133|:443... connected.\n",
            "HTTP request sent, awaiting response... 200 OK\n",
            "Length: 3256 (3.2K) [text/plain]\n",
            "Saving to: ‘ImageProcessor.py’\n",
            "\n",
            "ImageProcessor.py   100%[===================>]   3.18K  --.-KB/s    in 0s      \n",
            "\n",
            "2021-12-05 18:32:15 (62.3 MB/s) - ‘ImageProcessor.py’ saved [3256/3256]\n",
            "\n"
          ]
        }
      ]
    },
    {
      "cell_type": "code",
      "metadata": {
        "id": "Ru2NZyXq3ioV"
      },
      "source": [
        ""
      ],
      "execution_count": null,
      "outputs": []
    }
  ]
}